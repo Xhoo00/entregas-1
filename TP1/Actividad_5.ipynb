{
  "cells": [
    {
      "cell_type": "markdown",
      "metadata": {
        "id": "view-in-github",
        "colab_type": "text"
      },
      "source": [
        "<a href=\"https://colab.research.google.com/github/Xhoo00/entregas-1/blob/main/TP1/Actividad_5.ipynb\" target=\"_parent\"><img src=\"https://colab.research.google.com/assets/colab-badge.svg\" alt=\"Open In Colab\"/></a>"
      ]
    },
    {
      "cell_type": "markdown",
      "metadata": {
        "id": "vWmc_s2ezvU0"
      },
      "source": [
        "# Run streamlit app from a Google Colab Notebook\n",
        "> Created by [Manuel Romero](https://twitter.com/mrm8488)"
      ]
    },
    {
      "cell_type": "code",
      "execution_count": null,
      "metadata": {
        "id": "RvlYkCQ9vFiy"
      },
      "outputs": [],
      "source": [
        "!pip install -q streamlit"
      ]
    },
    {
      "cell_type": "code",
      "execution_count": null,
      "metadata": {
        "id": "an2C3c_0Ooi9"
      },
      "outputs": [],
      "source": []
    },
    {
      "cell_type": "markdown",
      "metadata": {
        "id": "waCfwniZOow8"
      },
      "source": [
        "## Create a streamlit app example\n"
      ]
    },
    {
      "cell_type": "code",
      "execution_count": null,
      "metadata": {
        "colab": {
          "base_uri": "https://localhost:8080/"
        },
        "id": "meJ36PefNftd",
        "outputId": "576f4af8-2288-4262-8e07-3a0fd5c8619c"
      },
      "outputs": [
        {
          "name": "stdout",
          "output_type": "stream",
          "text": [
            "Overwriting app.py\n"
          ]
        }
      ],
      "source": [
        "%%writefile app.py\n",
        "import streamlit as st\n",
        "import re\n",
        "# x = st.slider('Select a value')\n",
        "# st.write(x, 'squared is', x * x)\n",
        "\n",
        "\n",
        "#number1 = st.number_input(\"Ingresa el primer número: \")\n",
        "#number2 = st.number_input(\"Ingresa el segundo número: \")\n",
        "\n",
        "#if number1 > number2:\n",
        "#  st.write(\"El numero mayor es: \", number1)\n",
        "\n",
        "#elif number1 < number2:\n",
        "#  st.write(\"El numero mayor es: \", number2)\n",
        "\n",
        "#else:\n",
        "#  st.write(\"Ambos numeros son iguales.\")\n",
        "\n",
        "st.title(\">> Registro <<\")\n",
        "\n",
        "class Verificacion:\n",
        "    def __init__(self):\n",
        "        self.nombre = r'^[A-Za-z]+\\s[A-Za-z]+(?:\\s[A-Za-z]+)*$'\n",
        "        self.email = r'^[a-zA-Z0-9._%+-]+@[a-zA-Z0-9.-]+\\.[a-zA-Z]{2,}$'\n",
        "        self.contraseña = r'^(?=.*[A-Za-z])(?=.*[A-Z])(?=.*\\d)(?=.*[\\W_]).{8,}$'\n",
        "        self.edad = r'^(1[89]|[2-9]\\d)$'\n",
        "\n",
        "    def verificar_nombre(self, name):\n",
        "        if re.match(self.nombre, name):\n",
        "            return True\n",
        "        return False\n",
        "\n",
        "    def verificar_email(self, email):\n",
        "        if re.match(self.email, email):\n",
        "            return True\n",
        "        return False\n",
        "\n",
        "    def verificar_contra(self, password):\n",
        "        if re.match(self.contraseña, password):\n",
        "            return True\n",
        "        return False\n",
        "\n",
        "    def verificar_edad(self, age):\n",
        "        if re.match(self.edad, age):\n",
        "            return True\n",
        "        return False\n",
        "\n",
        "renombre = st.text_input(\"Nombre\")\n",
        "reemail = st.text_input(\"Correo electrónico\")\n",
        "recontraseña = st.text_input(\"Contraseña\")\n",
        "reedad = st.text_input(\"Edad\")\n",
        "\n",
        "\n",
        "if st.button(\"Enviar\"):\n",
        "    verificador = Verificacion()\n",
        "\n",
        "    if verificador.verificar_nombre(renombre) == False:\n",
        "        st.error(\"El nombre completo debe contener al menos un nombre y un apellido.\")\n",
        "    elif verificador.verificar_email(reemail) == False:\n",
        "        st.error(\"Por favor, introduce un correo electrónico válido.\")\n",
        "    elif verificador.verificar_contra(recontraseña) == False:\n",
        "        st.error(\"La contraseña debe contener al menos 8 caracteres, una mayúscula, un número y un caracter especial.\")\n",
        "    elif verificador.verificar_edad(reedad) == False:\n",
        "        st.error(\"La edad debe ser un número entre 18 y 100.\")\n",
        "    else:\n",
        "        st.success(\"¡Correcto!\")"
      ]
    },
    {
      "cell_type": "markdown",
      "metadata": {
        "id": "xZlEJkmSOoxC"
      },
      "source": [
        "## Install localtunnel"
      ]
    },
    {
      "cell_type": "code",
      "execution_count": null,
      "metadata": {
        "colab": {
          "base_uri": "https://localhost:8080/"
        },
        "id": "ZAyqQCQVOoxC",
        "outputId": "f4e06aca-65e9-4e3c-8fbf-181f6c426d77"
      },
      "outputs": [
        {
          "name": "stdout",
          "output_type": "stream",
          "text": [
            "\u001b[K\u001b[?25h\n",
            "up to date, audited 23 packages in 413ms\n",
            "\n",
            "3 packages are looking for funding\n",
            "  run `npm fund` for details\n",
            "\n",
            "2 \u001b[33m\u001b[1mmoderate\u001b[22m\u001b[39m severity vulnerabilities\n",
            "\n",
            "To address all issues (including breaking changes), run:\n",
            "  npm audit fix --force\n",
            "\n",
            "Run `npm audit` for details.\n"
          ]
        }
      ],
      "source": [
        "!npm install localtunnel"
      ]
    },
    {
      "cell_type": "markdown",
      "metadata": {
        "id": "kccYE2lkN20y"
      },
      "source": [
        "## Run streamlit in background"
      ]
    },
    {
      "cell_type": "code",
      "execution_count": null,
      "metadata": {
        "id": "Zv912rRAN0fs"
      },
      "outputs": [],
      "source": [
        "!streamlit run /content/app.py &>/content/logs.txt &"
      ]
    },
    {
      "cell_type": "markdown",
      "metadata": {
        "id": "h_KW9juhOCuH"
      },
      "source": [
        "## Expose the port 8501\n",
        "Then just click in the `url` showed.\n",
        "\n",
        "A `log.txt`file will be created."
      ]
    },
    {
      "cell_type": "code",
      "execution_count": null,
      "metadata": {
        "colab": {
          "background_save": true,
          "base_uri": "https://localhost:8080/"
        },
        "id": "XTGAizLhOIgC",
        "outputId": "82e3e521-f6ab-47b4-edbe-b3f4843876a4"
      },
      "outputs": [
        {
          "name": "stdout",
          "output_type": "stream",
          "text": [
            "your url is: https://rare-apes-ring.loca.lt\n"
          ]
        }
      ],
      "source": [
        "!npx localtunnel --port 8501"
      ]
    },
    {
      "cell_type": "markdown",
      "metadata": {
        "id": "GVz-H__pOoxG"
      },
      "source": [
        "[![ko-fi](https://www.ko-fi.com/img/githubbutton_sm.svg)](https://ko-fi.com/Y8Y3VYYE)"
      ]
    }
  ],
  "metadata": {
    "colab": {
      "provenance": [],
      "include_colab_link": true
    },
    "kernelspec": {
      "display_name": "Python 3",
      "name": "python3"
    }
  },
  "nbformat": 4,
  "nbformat_minor": 0
}